{
 "cells": [
  {
   "cell_type": "code",
   "execution_count": 12,
   "metadata": {},
   "outputs": [],
   "source": [
    "import pandas as pd\n",
    "\n",
    "## creates a pandas dataframe and fills the board with pieces in accordance with the FEN notation\n",
    "df =  pd.DataFrame(columns=(\"a\",\"b\",\"c\",\"d\",\"e\",\"f\",\"g\",\"H\"))\n",
    "# startFen = \"RNBQKBNR/PPPPPPPP/8/8/8/8/pppppppp/rnbqkbnr\"\n",
    "startFen = \"RNBQKBNR/PPPPPPPP\"\n",
    "numberString = \"0123456789\"\n",
    "\n",
    "for i in range(0,8):\n",
    "    df.loc[df.shape[0]] = \"\"\n",
    "\n",
    "count = 0\n",
    "for i in range(len(startFen)):\n",
    "    if startFen[i] in numberString:\n",
    "        count = count + int(startFen[i])\n",
    "        for x in range(int(startFen[i])):\n",
    "            df.iloc[(count//8), (count % 8)] = \"\"\n",
    "    elif startFen[i] != \"/\":\n",
    "        df.iloc[(count//8), (count % 8)] = startFen[i]\n",
    "        count += 1"
   ]
  },
  {
   "cell_type": "code",
   "execution_count": 15,
   "metadata": {},
   "outputs": [
    {
     "name": "stdout",
     "output_type": "stream",
     "text": [
      "False\n",
      "False\n",
      "True\n",
      "True\n"
     ]
    }
   ],
   "source": [
    "def rookPossibleMoves(capital, location):\n",
    "    x = location[0]\n",
    "    y = location[1]\n",
    "\n",
    "    for i in range(0, x):\n",
    "        df.iloc[i, y] = \"M1\"\n",
    "    for i in range(x+1, 8):\n",
    "        df.iloc[i, y] = \"M2\"\n",
    "    for i in range(0, y):\n",
    "        df.iloc[x, i] = \"M3\"\n",
    "    for i in range(y+1, 8):\n",
    "        df.iloc[x, i] = \"M4\"\n",
    "    \n",
    "def checkForFrendly(capital, location):\n",
    "    stuff = False\n",
    "\n",
    "\n",
    "\n",
    "temp = \"aaBB\"\n",
    "\n",
    "for i in range(0, len(temp)):\n",
    "    print(temp[i].isupper())"
   ]
  },
  {
   "cell_type": "code",
   "execution_count": null,
   "metadata": {},
   "outputs": [],
   "source": []
  },
  {
   "cell_type": "code",
   "execution_count": null,
   "metadata": {},
   "outputs": [],
   "source": []
  },
  {
   "cell_type": "code",
   "execution_count": null,
   "metadata": {},
   "outputs": [],
   "source": []
  },
  {
   "cell_type": "code",
   "execution_count": null,
   "metadata": {},
   "outputs": [],
   "source": []
  },
  {
   "cell_type": "code",
   "execution_count": null,
   "metadata": {},
   "outputs": [],
   "source": []
  },
  {
   "cell_type": "code",
   "execution_count": null,
   "metadata": {},
   "outputs": [],
   "source": []
  }
 ],
 "metadata": {
  "kernelspec": {
   "display_name": "Python 3.10.4 64-bit",
   "language": "python",
   "name": "python3"
  },
  "language_info": {
   "codemirror_mode": {
    "name": "ipython",
    "version": 3
   },
   "file_extension": ".py",
   "mimetype": "text/x-python",
   "name": "python",
   "nbconvert_exporter": "python",
   "pygments_lexer": "ipython3",
   "version": "3.10.4"
  },
  "orig_nbformat": 4,
  "vscode": {
   "interpreter": {
    "hash": "916dbcbb3f70747c44a77c7bcd40155683ae19c65e1c03b4aa3499c5328201f1"
   }
  }
 },
 "nbformat": 4,
 "nbformat_minor": 2
}
